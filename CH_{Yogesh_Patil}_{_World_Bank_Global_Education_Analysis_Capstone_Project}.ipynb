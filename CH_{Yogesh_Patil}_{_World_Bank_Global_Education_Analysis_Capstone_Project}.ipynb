{
  "nbformat": 4,
  "nbformat_minor": 0,
  "metadata": {
    "kernelspec": {
      "display_name": "Python 3",
      "language": "python",
      "name": "python3"
    },
    "language_info": {
      "codemirror_mode": {
        "name": "ipython",
        "version": 3
      },
      "file_extension": ".py",
      "mimetype": "text/x-python",
      "name": "python",
      "nbconvert_exporter": "python",
      "pygments_lexer": "ipython3",
      "version": "3.6.6"
    },
    "colab": {
      "name": "CH-{Yogesh Patil}-{ World Bank Global Education Analysis - Capstone Project}.ipynb",
      "provenance": [],
      "include_colab_link": true
    }
  },
  "cells": [
    {
      "cell_type": "markdown",
      "metadata": {
        "id": "view-in-github",
        "colab_type": "text"
      },
      "source": [
        "<a href=\"https://colab.research.google.com/github/Yogesh-8998/World-Bank-Global-Education-Analysis/blob/main/CH_%7BYogesh_Patil%7D_%7B_World_Bank_Global_Education_Analysis_Capstone_Project%7D.ipynb\" target=\"_parent\"><img src=\"https://colab.research.google.com/assets/colab-badge.svg\" alt=\"Open In Colab\"/></a>"
      ]
    },
    {
      "cell_type": "markdown",
      "metadata": {
        "id": "Y06xIdG26kRF"
      },
      "source": [
        "## <b> The World Bank EdStats All Indicator Query holds over 4,000 internationally comparable indicators that describe education access, progression, completion, literacy, teachers, population, and expenditures.The indicators cover the education cycle from pre-primary to vocational and tertiary education and also holds learning outcome data from international and regional learning assessments (e.g. PISA, TIMSS, PIRLS), equity data from household surveys, and projection/attainment data. </b>\n",
        "\n",
        "## <b> Explore and analyze the data to identify variation of indicators across the globe, which countries are more alike and different. Feel free to add more extensive analyses and details.</b>"
      ]
    },
    {
      "cell_type": "code",
      "metadata": {
        "id": "fHKCSWUhvz5Y",
        "colab": {
          "base_uri": "https://localhost:8080/"
        },
        "outputId": "e13760ba-fa21-436f-a401-27e74e7bfd55"
      },
      "source": [
        "from google.colab import drive\n",
        "drive.mount('/content/drive')"
      ],
      "execution_count": null,
      "outputs": [
        {
          "output_type": "stream",
          "text": [
            "Mounted at /content/drive\n"
          ],
          "name": "stdout"
        }
      ]
    },
    {
      "cell_type": "code",
      "metadata": {
        "id": "dByMsuzT8Tnw"
      },
      "source": [
        "import pandas as pd\n",
        "import numpy as np"
      ],
      "execution_count": 10,
      "outputs": []
    },
    {
      "cell_type": "code",
      "metadata": {
        "id": "yf_H6hKowHEM"
      },
      "source": [
        "df1 = pd.read_csv('/content/drive/MyDrive/Almabetter /Capstone Project/EdStatsCountry-Series.csv')\n",
        "df2 = pd.read_csv('/content/drive/MyDrive/Almabetter /Capstone Project/EdStatsCountry.csv')\n",
        "df3 = pd.read_csv('/content/drive/MyDrive/Almabetter /Capstone Project/EdStatsFootNote.csv')\n",
        "df4 =pd.read_csv('/content/drive/MyDrive/Almabetter /Capstone Project/EdStatsSeries.csv')\n",
        "df5 =pd.read_csv('/content/drive/MyDrive/Almabetter /Capstone Project/EdStatsData.csv')"
      ],
      "execution_count": 11,
      "outputs": []
    },
    {
      "cell_type": "code",
      "metadata": {
        "id": "1RzLxZG_AeRX",
        "colab": {
          "base_uri": "https://localhost:8080/",
          "height": 204
        },
        "outputId": "dcc65d71-b37c-4c51-b157-979600e4e743"
      },
      "source": [
        "df1.head()"
      ],
      "execution_count": 12,
      "outputs": [
        {
          "output_type": "execute_result",
          "data": {
            "text/html": [
              "<div>\n",
              "<style scoped>\n",
              "    .dataframe tbody tr th:only-of-type {\n",
              "        vertical-align: middle;\n",
              "    }\n",
              "\n",
              "    .dataframe tbody tr th {\n",
              "        vertical-align: top;\n",
              "    }\n",
              "\n",
              "    .dataframe thead th {\n",
              "        text-align: right;\n",
              "    }\n",
              "</style>\n",
              "<table border=\"1\" class=\"dataframe\">\n",
              "  <thead>\n",
              "    <tr style=\"text-align: right;\">\n",
              "      <th></th>\n",
              "      <th>CountryCode</th>\n",
              "      <th>SeriesCode</th>\n",
              "      <th>DESCRIPTION</th>\n",
              "      <th>Unnamed: 3</th>\n",
              "    </tr>\n",
              "  </thead>\n",
              "  <tbody>\n",
              "    <tr>\n",
              "      <th>0</th>\n",
              "      <td>ABW</td>\n",
              "      <td>SP.POP.TOTL</td>\n",
              "      <td>Data sources : United Nations World Population...</td>\n",
              "      <td>NaN</td>\n",
              "    </tr>\n",
              "    <tr>\n",
              "      <th>1</th>\n",
              "      <td>ABW</td>\n",
              "      <td>SP.POP.GROW</td>\n",
              "      <td>Data sources: United Nations World Population ...</td>\n",
              "      <td>NaN</td>\n",
              "    </tr>\n",
              "    <tr>\n",
              "      <th>2</th>\n",
              "      <td>AFG</td>\n",
              "      <td>SP.POP.GROW</td>\n",
              "      <td>Data sources: United Nations World Population ...</td>\n",
              "      <td>NaN</td>\n",
              "    </tr>\n",
              "    <tr>\n",
              "      <th>3</th>\n",
              "      <td>AFG</td>\n",
              "      <td>NY.GDP.PCAP.PP.CD</td>\n",
              "      <td>Estimates are based on regression.</td>\n",
              "      <td>NaN</td>\n",
              "    </tr>\n",
              "    <tr>\n",
              "      <th>4</th>\n",
              "      <td>AFG</td>\n",
              "      <td>SP.POP.TOTL</td>\n",
              "      <td>Data sources : United Nations World Population...</td>\n",
              "      <td>NaN</td>\n",
              "    </tr>\n",
              "  </tbody>\n",
              "</table>\n",
              "</div>"
            ],
            "text/plain": [
              "  CountryCode  ... Unnamed: 3\n",
              "0         ABW  ...        NaN\n",
              "1         ABW  ...        NaN\n",
              "2         AFG  ...        NaN\n",
              "3         AFG  ...        NaN\n",
              "4         AFG  ...        NaN\n",
              "\n",
              "[5 rows x 4 columns]"
            ]
          },
          "metadata": {
            "tags": []
          },
          "execution_count": 12
        }
      ]
    },
    {
      "cell_type": "code",
      "metadata": {
        "id": "Z62r268hbo4I"
      },
      "source": [
        ""
      ],
      "execution_count": 12,
      "outputs": []
    },
    {
      "cell_type": "code",
      "metadata": {
        "id": "k6qPne4CAtmp",
        "colab": {
          "base_uri": "https://localhost:8080/",
          "height": 418
        },
        "outputId": "01bc7b03-bfce-4352-8e9d-8e193d71ed89"
      },
      "source": [
        "df2.head(2)"
      ],
      "execution_count": 13,
      "outputs": [
        {
          "output_type": "execute_result",
          "data": {
            "text/html": [
              "<div>\n",
              "<style scoped>\n",
              "    .dataframe tbody tr th:only-of-type {\n",
              "        vertical-align: middle;\n",
              "    }\n",
              "\n",
              "    .dataframe tbody tr th {\n",
              "        vertical-align: top;\n",
              "    }\n",
              "\n",
              "    .dataframe thead th {\n",
              "        text-align: right;\n",
              "    }\n",
              "</style>\n",
              "<table border=\"1\" class=\"dataframe\">\n",
              "  <thead>\n",
              "    <tr style=\"text-align: right;\">\n",
              "      <th></th>\n",
              "      <th>Country Code</th>\n",
              "      <th>Short Name</th>\n",
              "      <th>Table Name</th>\n",
              "      <th>Long Name</th>\n",
              "      <th>2-alpha code</th>\n",
              "      <th>Currency Unit</th>\n",
              "      <th>Special Notes</th>\n",
              "      <th>Region</th>\n",
              "      <th>Income Group</th>\n",
              "      <th>WB-2 code</th>\n",
              "      <th>National accounts base year</th>\n",
              "      <th>National accounts reference year</th>\n",
              "      <th>SNA price valuation</th>\n",
              "      <th>Lending category</th>\n",
              "      <th>Other groups</th>\n",
              "      <th>System of National Accounts</th>\n",
              "      <th>Alternative conversion factor</th>\n",
              "      <th>PPP survey year</th>\n",
              "      <th>Balance of Payments Manual in use</th>\n",
              "      <th>External debt Reporting status</th>\n",
              "      <th>System of trade</th>\n",
              "      <th>Government Accounting concept</th>\n",
              "      <th>IMF data dissemination standard</th>\n",
              "      <th>Latest population census</th>\n",
              "      <th>Latest household survey</th>\n",
              "      <th>Source of most recent Income and expenditure data</th>\n",
              "      <th>Vital registration complete</th>\n",
              "      <th>Latest agricultural census</th>\n",
              "      <th>Latest industrial data</th>\n",
              "      <th>Latest trade data</th>\n",
              "      <th>Latest water withdrawal data</th>\n",
              "      <th>Unnamed: 31</th>\n",
              "    </tr>\n",
              "  </thead>\n",
              "  <tbody>\n",
              "    <tr>\n",
              "      <th>0</th>\n",
              "      <td>ABW</td>\n",
              "      <td>Aruba</td>\n",
              "      <td>Aruba</td>\n",
              "      <td>Aruba</td>\n",
              "      <td>AW</td>\n",
              "      <td>Aruban florin</td>\n",
              "      <td>SNA data for 2000-2011 are updated from offici...</td>\n",
              "      <td>Latin America &amp; Caribbean</td>\n",
              "      <td>High income: nonOECD</td>\n",
              "      <td>AW</td>\n",
              "      <td>2000</td>\n",
              "      <td>NaN</td>\n",
              "      <td>Value added at basic prices (VAB)</td>\n",
              "      <td>NaN</td>\n",
              "      <td>NaN</td>\n",
              "      <td>Country uses the 1993 System of National Accou...</td>\n",
              "      <td>NaN</td>\n",
              "      <td>NaN</td>\n",
              "      <td>IMF Balance of Payments Manual, 6th edition.</td>\n",
              "      <td>NaN</td>\n",
              "      <td>Special trade system</td>\n",
              "      <td>NaN</td>\n",
              "      <td>NaN</td>\n",
              "      <td>2010</td>\n",
              "      <td>NaN</td>\n",
              "      <td>NaN</td>\n",
              "      <td>Yes</td>\n",
              "      <td>NaN</td>\n",
              "      <td>NaN</td>\n",
              "      <td>2012.0</td>\n",
              "      <td>NaN</td>\n",
              "      <td>NaN</td>\n",
              "    </tr>\n",
              "    <tr>\n",
              "      <th>1</th>\n",
              "      <td>AFG</td>\n",
              "      <td>Afghanistan</td>\n",
              "      <td>Afghanistan</td>\n",
              "      <td>Islamic State of Afghanistan</td>\n",
              "      <td>AF</td>\n",
              "      <td>Afghan afghani</td>\n",
              "      <td>Fiscal year end: March 20; reporting period fo...</td>\n",
              "      <td>South Asia</td>\n",
              "      <td>Low income</td>\n",
              "      <td>AF</td>\n",
              "      <td>2002/03</td>\n",
              "      <td>NaN</td>\n",
              "      <td>Value added at basic prices (VAB)</td>\n",
              "      <td>IDA</td>\n",
              "      <td>HIPC</td>\n",
              "      <td>Country uses the 1993 System of National Accou...</td>\n",
              "      <td>NaN</td>\n",
              "      <td>NaN</td>\n",
              "      <td>NaN</td>\n",
              "      <td>Actual</td>\n",
              "      <td>General trade system</td>\n",
              "      <td>Consolidated central government</td>\n",
              "      <td>General Data Dissemination System (GDDS)</td>\n",
              "      <td>1979</td>\n",
              "      <td>Multiple Indicator Cluster Survey (MICS), 2010/11</td>\n",
              "      <td>Integrated household survey (IHS), 2008</td>\n",
              "      <td>NaN</td>\n",
              "      <td>2013/14</td>\n",
              "      <td>NaN</td>\n",
              "      <td>2012.0</td>\n",
              "      <td>2000</td>\n",
              "      <td>NaN</td>\n",
              "    </tr>\n",
              "  </tbody>\n",
              "</table>\n",
              "</div>"
            ],
            "text/plain": [
              "  Country Code   Short Name  ... Latest water withdrawal data Unnamed: 31\n",
              "0          ABW        Aruba  ...                          NaN         NaN\n",
              "1          AFG  Afghanistan  ...                         2000         NaN\n",
              "\n",
              "[2 rows x 32 columns]"
            ]
          },
          "metadata": {
            "tags": []
          },
          "execution_count": 13
        }
      ]
    },
    {
      "cell_type": "code",
      "metadata": {
        "id": "_M8kg2SqBwr3",
        "colab": {
          "base_uri": "https://localhost:8080/",
          "height": 204
        },
        "outputId": "42f59f41-4be0-4caf-ba4a-c50dd28bfab6"
      },
      "source": [
        "df3.head()"
      ],
      "execution_count": 14,
      "outputs": [
        {
          "output_type": "execute_result",
          "data": {
            "text/html": [
              "<div>\n",
              "<style scoped>\n",
              "    .dataframe tbody tr th:only-of-type {\n",
              "        vertical-align: middle;\n",
              "    }\n",
              "\n",
              "    .dataframe tbody tr th {\n",
              "        vertical-align: top;\n",
              "    }\n",
              "\n",
              "    .dataframe thead th {\n",
              "        text-align: right;\n",
              "    }\n",
              "</style>\n",
              "<table border=\"1\" class=\"dataframe\">\n",
              "  <thead>\n",
              "    <tr style=\"text-align: right;\">\n",
              "      <th></th>\n",
              "      <th>CountryCode</th>\n",
              "      <th>SeriesCode</th>\n",
              "      <th>Year</th>\n",
              "      <th>DESCRIPTION</th>\n",
              "      <th>Unnamed: 4</th>\n",
              "    </tr>\n",
              "  </thead>\n",
              "  <tbody>\n",
              "    <tr>\n",
              "      <th>0</th>\n",
              "      <td>ABW</td>\n",
              "      <td>SE.PRE.ENRL.FE</td>\n",
              "      <td>YR2001</td>\n",
              "      <td>Country estimation.</td>\n",
              "      <td>NaN</td>\n",
              "    </tr>\n",
              "    <tr>\n",
              "      <th>1</th>\n",
              "      <td>ABW</td>\n",
              "      <td>SE.TER.TCHR.FE</td>\n",
              "      <td>YR2005</td>\n",
              "      <td>Country estimation.</td>\n",
              "      <td>NaN</td>\n",
              "    </tr>\n",
              "    <tr>\n",
              "      <th>2</th>\n",
              "      <td>ABW</td>\n",
              "      <td>SE.PRE.TCHR.FE</td>\n",
              "      <td>YR2000</td>\n",
              "      <td>Country estimation.</td>\n",
              "      <td>NaN</td>\n",
              "    </tr>\n",
              "    <tr>\n",
              "      <th>3</th>\n",
              "      <td>ABW</td>\n",
              "      <td>SE.SEC.ENRL.GC</td>\n",
              "      <td>YR2004</td>\n",
              "      <td>Country estimation.</td>\n",
              "      <td>NaN</td>\n",
              "    </tr>\n",
              "    <tr>\n",
              "      <th>4</th>\n",
              "      <td>ABW</td>\n",
              "      <td>SE.PRE.TCHR</td>\n",
              "      <td>YR2006</td>\n",
              "      <td>Country estimation.</td>\n",
              "      <td>NaN</td>\n",
              "    </tr>\n",
              "  </tbody>\n",
              "</table>\n",
              "</div>"
            ],
            "text/plain": [
              "  CountryCode      SeriesCode    Year          DESCRIPTION  Unnamed: 4\n",
              "0         ABW  SE.PRE.ENRL.FE  YR2001  Country estimation.         NaN\n",
              "1         ABW  SE.TER.TCHR.FE  YR2005  Country estimation.         NaN\n",
              "2         ABW  SE.PRE.TCHR.FE  YR2000  Country estimation.         NaN\n",
              "3         ABW  SE.SEC.ENRL.GC  YR2004  Country estimation.         NaN\n",
              "4         ABW     SE.PRE.TCHR  YR2006  Country estimation.         NaN"
            ]
          },
          "metadata": {
            "tags": []
          },
          "execution_count": 14
        }
      ]
    },
    {
      "cell_type": "code",
      "metadata": {
        "id": "65jjpmWaB0iJ",
        "colab": {
          "base_uri": "https://localhost:8080/",
          "height": 334
        },
        "outputId": "03e60d90-000b-4708-f4fc-93cec7c88893"
      },
      "source": [
        "df4.head(2)"
      ],
      "execution_count": 15,
      "outputs": [
        {
          "output_type": "execute_result",
          "data": {
            "text/html": [
              "<div>\n",
              "<style scoped>\n",
              "    .dataframe tbody tr th:only-of-type {\n",
              "        vertical-align: middle;\n",
              "    }\n",
              "\n",
              "    .dataframe tbody tr th {\n",
              "        vertical-align: top;\n",
              "    }\n",
              "\n",
              "    .dataframe thead th {\n",
              "        text-align: right;\n",
              "    }\n",
              "</style>\n",
              "<table border=\"1\" class=\"dataframe\">\n",
              "  <thead>\n",
              "    <tr style=\"text-align: right;\">\n",
              "      <th></th>\n",
              "      <th>Series Code</th>\n",
              "      <th>Topic</th>\n",
              "      <th>Indicator Name</th>\n",
              "      <th>Short definition</th>\n",
              "      <th>Long definition</th>\n",
              "      <th>Unit of measure</th>\n",
              "      <th>Periodicity</th>\n",
              "      <th>Base Period</th>\n",
              "      <th>Other notes</th>\n",
              "      <th>Aggregation method</th>\n",
              "      <th>Limitations and exceptions</th>\n",
              "      <th>Notes from original source</th>\n",
              "      <th>General comments</th>\n",
              "      <th>Source</th>\n",
              "      <th>Statistical concept and methodology</th>\n",
              "      <th>Development relevance</th>\n",
              "      <th>Related source links</th>\n",
              "      <th>Other web links</th>\n",
              "      <th>Related indicators</th>\n",
              "      <th>License Type</th>\n",
              "      <th>Unnamed: 20</th>\n",
              "    </tr>\n",
              "  </thead>\n",
              "  <tbody>\n",
              "    <tr>\n",
              "      <th>0</th>\n",
              "      <td>BAR.NOED.1519.FE.ZS</td>\n",
              "      <td>Attainment</td>\n",
              "      <td>Barro-Lee: Percentage of female population age...</td>\n",
              "      <td>Percentage of female population age 15-19 with...</td>\n",
              "      <td>Percentage of female population age 15-19 with...</td>\n",
              "      <td>NaN</td>\n",
              "      <td>NaN</td>\n",
              "      <td>NaN</td>\n",
              "      <td>NaN</td>\n",
              "      <td>NaN</td>\n",
              "      <td>NaN</td>\n",
              "      <td>NaN</td>\n",
              "      <td>NaN</td>\n",
              "      <td>Robert J. Barro and Jong-Wha Lee: http://www.b...</td>\n",
              "      <td>NaN</td>\n",
              "      <td>NaN</td>\n",
              "      <td>NaN</td>\n",
              "      <td>NaN</td>\n",
              "      <td>NaN</td>\n",
              "      <td>NaN</td>\n",
              "      <td>NaN</td>\n",
              "    </tr>\n",
              "    <tr>\n",
              "      <th>1</th>\n",
              "      <td>BAR.NOED.1519.ZS</td>\n",
              "      <td>Attainment</td>\n",
              "      <td>Barro-Lee: Percentage of population age 15-19 ...</td>\n",
              "      <td>Percentage of population age 15-19 with no edu...</td>\n",
              "      <td>Percentage of population age 15-19 with no edu...</td>\n",
              "      <td>NaN</td>\n",
              "      <td>NaN</td>\n",
              "      <td>NaN</td>\n",
              "      <td>NaN</td>\n",
              "      <td>NaN</td>\n",
              "      <td>NaN</td>\n",
              "      <td>NaN</td>\n",
              "      <td>NaN</td>\n",
              "      <td>Robert J. Barro and Jong-Wha Lee: http://www.b...</td>\n",
              "      <td>NaN</td>\n",
              "      <td>NaN</td>\n",
              "      <td>NaN</td>\n",
              "      <td>NaN</td>\n",
              "      <td>NaN</td>\n",
              "      <td>NaN</td>\n",
              "      <td>NaN</td>\n",
              "    </tr>\n",
              "  </tbody>\n",
              "</table>\n",
              "</div>"
            ],
            "text/plain": [
              "           Series Code       Topic  ... License Type Unnamed: 20\n",
              "0  BAR.NOED.1519.FE.ZS  Attainment  ...          NaN         NaN\n",
              "1     BAR.NOED.1519.ZS  Attainment  ...          NaN         NaN\n",
              "\n",
              "[2 rows x 21 columns]"
            ]
          },
          "metadata": {
            "tags": []
          },
          "execution_count": 15
        }
      ]
    },
    {
      "cell_type": "code",
      "metadata": {
        "id": "Wsp-XEZ0M-Rq"
      },
      "source": [
        ""
      ],
      "execution_count": 15,
      "outputs": []
    },
    {
      "cell_type": "code",
      "metadata": {
        "id": "1p8-DsBjECBU",
        "colab": {
          "base_uri": "https://localhost:8080/",
          "height": 317
        },
        "outputId": "4fafbeae-d973-4d3f-9281-d84a1c0c154d"
      },
      "source": [
        "df5.head(2)"
      ],
      "execution_count": 16,
      "outputs": [
        {
          "output_type": "execute_result",
          "data": {
            "text/html": [
              "<div>\n",
              "<style scoped>\n",
              "    .dataframe tbody tr th:only-of-type {\n",
              "        vertical-align: middle;\n",
              "    }\n",
              "\n",
              "    .dataframe tbody tr th {\n",
              "        vertical-align: top;\n",
              "    }\n",
              "\n",
              "    .dataframe thead th {\n",
              "        text-align: right;\n",
              "    }\n",
              "</style>\n",
              "<table border=\"1\" class=\"dataframe\">\n",
              "  <thead>\n",
              "    <tr style=\"text-align: right;\">\n",
              "      <th></th>\n",
              "      <th>Country Name</th>\n",
              "      <th>Country Code</th>\n",
              "      <th>Indicator Name</th>\n",
              "      <th>Indicator Code</th>\n",
              "      <th>1970</th>\n",
              "      <th>1971</th>\n",
              "      <th>1972</th>\n",
              "      <th>1973</th>\n",
              "      <th>1974</th>\n",
              "      <th>1975</th>\n",
              "      <th>1976</th>\n",
              "      <th>1977</th>\n",
              "      <th>1978</th>\n",
              "      <th>1979</th>\n",
              "      <th>1980</th>\n",
              "      <th>1981</th>\n",
              "      <th>1982</th>\n",
              "      <th>1983</th>\n",
              "      <th>1984</th>\n",
              "      <th>1985</th>\n",
              "      <th>1986</th>\n",
              "      <th>1987</th>\n",
              "      <th>1988</th>\n",
              "      <th>1989</th>\n",
              "      <th>1990</th>\n",
              "      <th>1991</th>\n",
              "      <th>1992</th>\n",
              "      <th>1993</th>\n",
              "      <th>1994</th>\n",
              "      <th>1995</th>\n",
              "      <th>1996</th>\n",
              "      <th>1997</th>\n",
              "      <th>1998</th>\n",
              "      <th>1999</th>\n",
              "      <th>2000</th>\n",
              "      <th>2001</th>\n",
              "      <th>2002</th>\n",
              "      <th>2003</th>\n",
              "      <th>2004</th>\n",
              "      <th>2005</th>\n",
              "      <th>2006</th>\n",
              "      <th>2007</th>\n",
              "      <th>2008</th>\n",
              "      <th>2009</th>\n",
              "      <th>2010</th>\n",
              "      <th>2011</th>\n",
              "      <th>2012</th>\n",
              "      <th>2013</th>\n",
              "      <th>2014</th>\n",
              "      <th>2015</th>\n",
              "      <th>2016</th>\n",
              "      <th>2017</th>\n",
              "      <th>2020</th>\n",
              "      <th>2025</th>\n",
              "      <th>2030</th>\n",
              "      <th>2035</th>\n",
              "      <th>2040</th>\n",
              "      <th>2045</th>\n",
              "      <th>2050</th>\n",
              "      <th>2055</th>\n",
              "      <th>2060</th>\n",
              "      <th>2065</th>\n",
              "      <th>2070</th>\n",
              "      <th>2075</th>\n",
              "      <th>2080</th>\n",
              "      <th>2085</th>\n",
              "      <th>2090</th>\n",
              "      <th>2095</th>\n",
              "      <th>2100</th>\n",
              "      <th>Unnamed: 69</th>\n",
              "    </tr>\n",
              "  </thead>\n",
              "  <tbody>\n",
              "    <tr>\n",
              "      <th>0</th>\n",
              "      <td>Arab World</td>\n",
              "      <td>ARB</td>\n",
              "      <td>Adjusted net enrolment rate, lower secondary, ...</td>\n",
              "      <td>UIS.NERA.2</td>\n",
              "      <td>NaN</td>\n",
              "      <td>NaN</td>\n",
              "      <td>NaN</td>\n",
              "      <td>NaN</td>\n",
              "      <td>NaN</td>\n",
              "      <td>NaN</td>\n",
              "      <td>NaN</td>\n",
              "      <td>NaN</td>\n",
              "      <td>NaN</td>\n",
              "      <td>NaN</td>\n",
              "      <td>NaN</td>\n",
              "      <td>NaN</td>\n",
              "      <td>NaN</td>\n",
              "      <td>NaN</td>\n",
              "      <td>NaN</td>\n",
              "      <td>NaN</td>\n",
              "      <td>NaN</td>\n",
              "      <td>NaN</td>\n",
              "      <td>NaN</td>\n",
              "      <td>NaN</td>\n",
              "      <td>NaN</td>\n",
              "      <td>NaN</td>\n",
              "      <td>NaN</td>\n",
              "      <td>NaN</td>\n",
              "      <td>NaN</td>\n",
              "      <td>NaN</td>\n",
              "      <td>NaN</td>\n",
              "      <td>NaN</td>\n",
              "      <td>NaN</td>\n",
              "      <td>NaN</td>\n",
              "      <td>NaN</td>\n",
              "      <td>NaN</td>\n",
              "      <td>NaN</td>\n",
              "      <td>NaN</td>\n",
              "      <td>NaN</td>\n",
              "      <td>NaN</td>\n",
              "      <td>NaN</td>\n",
              "      <td>NaN</td>\n",
              "      <td>NaN</td>\n",
              "      <td>NaN</td>\n",
              "      <td>NaN</td>\n",
              "      <td>NaN</td>\n",
              "      <td>NaN</td>\n",
              "      <td>NaN</td>\n",
              "      <td>NaN</td>\n",
              "      <td>NaN</td>\n",
              "      <td>NaN</td>\n",
              "      <td>NaN</td>\n",
              "      <td>NaN</td>\n",
              "      <td>NaN</td>\n",
              "      <td>NaN</td>\n",
              "      <td>NaN</td>\n",
              "      <td>NaN</td>\n",
              "      <td>NaN</td>\n",
              "      <td>NaN</td>\n",
              "      <td>NaN</td>\n",
              "      <td>NaN</td>\n",
              "      <td>NaN</td>\n",
              "      <td>NaN</td>\n",
              "      <td>NaN</td>\n",
              "      <td>NaN</td>\n",
              "      <td>NaN</td>\n",
              "      <td>NaN</td>\n",
              "      <td>NaN</td>\n",
              "      <td>NaN</td>\n",
              "      <td>NaN</td>\n",
              "    </tr>\n",
              "    <tr>\n",
              "      <th>1</th>\n",
              "      <td>Arab World</td>\n",
              "      <td>ARB</td>\n",
              "      <td>Adjusted net enrolment rate, lower secondary, ...</td>\n",
              "      <td>UIS.NERA.2.F</td>\n",
              "      <td>NaN</td>\n",
              "      <td>NaN</td>\n",
              "      <td>NaN</td>\n",
              "      <td>NaN</td>\n",
              "      <td>NaN</td>\n",
              "      <td>NaN</td>\n",
              "      <td>NaN</td>\n",
              "      <td>NaN</td>\n",
              "      <td>NaN</td>\n",
              "      <td>NaN</td>\n",
              "      <td>NaN</td>\n",
              "      <td>NaN</td>\n",
              "      <td>NaN</td>\n",
              "      <td>NaN</td>\n",
              "      <td>NaN</td>\n",
              "      <td>NaN</td>\n",
              "      <td>NaN</td>\n",
              "      <td>NaN</td>\n",
              "      <td>NaN</td>\n",
              "      <td>NaN</td>\n",
              "      <td>NaN</td>\n",
              "      <td>NaN</td>\n",
              "      <td>NaN</td>\n",
              "      <td>NaN</td>\n",
              "      <td>NaN</td>\n",
              "      <td>NaN</td>\n",
              "      <td>NaN</td>\n",
              "      <td>NaN</td>\n",
              "      <td>NaN</td>\n",
              "      <td>NaN</td>\n",
              "      <td>NaN</td>\n",
              "      <td>NaN</td>\n",
              "      <td>NaN</td>\n",
              "      <td>NaN</td>\n",
              "      <td>NaN</td>\n",
              "      <td>NaN</td>\n",
              "      <td>NaN</td>\n",
              "      <td>NaN</td>\n",
              "      <td>NaN</td>\n",
              "      <td>NaN</td>\n",
              "      <td>NaN</td>\n",
              "      <td>NaN</td>\n",
              "      <td>NaN</td>\n",
              "      <td>NaN</td>\n",
              "      <td>NaN</td>\n",
              "      <td>NaN</td>\n",
              "      <td>NaN</td>\n",
              "      <td>NaN</td>\n",
              "      <td>NaN</td>\n",
              "      <td>NaN</td>\n",
              "      <td>NaN</td>\n",
              "      <td>NaN</td>\n",
              "      <td>NaN</td>\n",
              "      <td>NaN</td>\n",
              "      <td>NaN</td>\n",
              "      <td>NaN</td>\n",
              "      <td>NaN</td>\n",
              "      <td>NaN</td>\n",
              "      <td>NaN</td>\n",
              "      <td>NaN</td>\n",
              "      <td>NaN</td>\n",
              "      <td>NaN</td>\n",
              "      <td>NaN</td>\n",
              "      <td>NaN</td>\n",
              "      <td>NaN</td>\n",
              "      <td>NaN</td>\n",
              "    </tr>\n",
              "  </tbody>\n",
              "</table>\n",
              "</div>"
            ],
            "text/plain": [
              "  Country Name Country Code  ... 2100 Unnamed: 69\n",
              "0   Arab World          ARB  ...  NaN         NaN\n",
              "1   Arab World          ARB  ...  NaN         NaN\n",
              "\n",
              "[2 rows x 70 columns]"
            ]
          },
          "metadata": {
            "tags": []
          },
          "execution_count": 16
        }
      ]
    },
    {
      "cell_type": "code",
      "metadata": {
        "id": "5hGPyEdWEEoo",
        "colab": {
          "base_uri": "https://localhost:8080/"
        },
        "outputId": "a4795383-8c00-412b-f88e-30344c63901e"
      },
      "source": [
        "df1.info()"
      ],
      "execution_count": 17,
      "outputs": [
        {
          "output_type": "stream",
          "text": [
            "<class 'pandas.core.frame.DataFrame'>\n",
            "RangeIndex: 613 entries, 0 to 612\n",
            "Data columns (total 4 columns):\n",
            " #   Column       Non-Null Count  Dtype  \n",
            "---  ------       --------------  -----  \n",
            " 0   CountryCode  613 non-null    object \n",
            " 1   SeriesCode   613 non-null    object \n",
            " 2   DESCRIPTION  613 non-null    object \n",
            " 3   Unnamed: 3   0 non-null      float64\n",
            "dtypes: float64(1), object(3)\n",
            "memory usage: 19.3+ KB\n"
          ],
          "name": "stdout"
        }
      ]
    },
    {
      "cell_type": "code",
      "metadata": {
        "id": "UkgGVfoLEmRj",
        "colab": {
          "base_uri": "https://localhost:8080/"
        },
        "outputId": "b81920ba-5957-4ce7-b921-1269a8beb450"
      },
      "source": [
        "df2.info()"
      ],
      "execution_count": 18,
      "outputs": [
        {
          "output_type": "stream",
          "text": [
            "<class 'pandas.core.frame.DataFrame'>\n",
            "RangeIndex: 241 entries, 0 to 240\n",
            "Data columns (total 32 columns):\n",
            " #   Column                                             Non-Null Count  Dtype  \n",
            "---  ------                                             --------------  -----  \n",
            " 0   Country Code                                       241 non-null    object \n",
            " 1   Short Name                                         241 non-null    object \n",
            " 2   Table Name                                         241 non-null    object \n",
            " 3   Long Name                                          241 non-null    object \n",
            " 4   2-alpha code                                       238 non-null    object \n",
            " 5   Currency Unit                                      215 non-null    object \n",
            " 6   Special Notes                                      145 non-null    object \n",
            " 7   Region                                             214 non-null    object \n",
            " 8   Income Group                                       214 non-null    object \n",
            " 9   WB-2 code                                          240 non-null    object \n",
            " 10  National accounts base year                        205 non-null    object \n",
            " 11  National accounts reference year                   32 non-null     float64\n",
            " 12  SNA price valuation                                197 non-null    object \n",
            " 13  Lending category                                   144 non-null    object \n",
            " 14  Other groups                                       58 non-null     object \n",
            " 15  System of National Accounts                        215 non-null    object \n",
            " 16  Alternative conversion factor                      47 non-null     object \n",
            " 17  PPP survey year                                    145 non-null    object \n",
            " 18  Balance of Payments Manual in use                  181 non-null    object \n",
            " 19  External debt Reporting status                     124 non-null    object \n",
            " 20  System of trade                                    200 non-null    object \n",
            " 21  Government Accounting concept                      161 non-null    object \n",
            " 22  IMF data dissemination standard                    181 non-null    object \n",
            " 23  Latest population census                           213 non-null    object \n",
            " 24  Latest household survey                            141 non-null    object \n",
            " 25  Source of most recent Income and expenditure data  160 non-null    object \n",
            " 26  Vital registration complete                        111 non-null    object \n",
            " 27  Latest agricultural census                         142 non-null    object \n",
            " 28  Latest industrial data                             107 non-null    float64\n",
            " 29  Latest trade data                                  185 non-null    float64\n",
            " 30  Latest water withdrawal data                       179 non-null    object \n",
            " 31  Unnamed: 31                                        0 non-null      float64\n",
            "dtypes: float64(4), object(28)\n",
            "memory usage: 60.4+ KB\n"
          ],
          "name": "stdout"
        }
      ]
    },
    {
      "cell_type": "code",
      "metadata": {
        "id": "3U35x0xTEon0",
        "colab": {
          "base_uri": "https://localhost:8080/"
        },
        "outputId": "91106973-dcd5-4a8e-e808-6a7534ba9b8e"
      },
      "source": [
        "df3.info()"
      ],
      "execution_count": 19,
      "outputs": [
        {
          "output_type": "stream",
          "text": [
            "<class 'pandas.core.frame.DataFrame'>\n",
            "RangeIndex: 643638 entries, 0 to 643637\n",
            "Data columns (total 5 columns):\n",
            " #   Column       Non-Null Count   Dtype  \n",
            "---  ------       --------------   -----  \n",
            " 0   CountryCode  643638 non-null  object \n",
            " 1   SeriesCode   643638 non-null  object \n",
            " 2   Year         643638 non-null  object \n",
            " 3   DESCRIPTION  643638 non-null  object \n",
            " 4   Unnamed: 4   0 non-null       float64\n",
            "dtypes: float64(1), object(4)\n",
            "memory usage: 24.6+ MB\n"
          ],
          "name": "stdout"
        }
      ]
    },
    {
      "cell_type": "code",
      "metadata": {
        "id": "W11HXQi5EsCE",
        "colab": {
          "base_uri": "https://localhost:8080/"
        },
        "outputId": "41653718-d64c-45a5-a3b4-aa9e90b913bb"
      },
      "source": [
        "df4.info()"
      ],
      "execution_count": 20,
      "outputs": [
        {
          "output_type": "stream",
          "text": [
            "<class 'pandas.core.frame.DataFrame'>\n",
            "RangeIndex: 3665 entries, 0 to 3664\n",
            "Data columns (total 21 columns):\n",
            " #   Column                               Non-Null Count  Dtype  \n",
            "---  ------                               --------------  -----  \n",
            " 0   Series Code                          3665 non-null   object \n",
            " 1   Topic                                3665 non-null   object \n",
            " 2   Indicator Name                       3665 non-null   object \n",
            " 3   Short definition                     2156 non-null   object \n",
            " 4   Long definition                      3665 non-null   object \n",
            " 5   Unit of measure                      0 non-null      float64\n",
            " 6   Periodicity                          99 non-null     object \n",
            " 7   Base Period                          314 non-null    object \n",
            " 8   Other notes                          552 non-null    object \n",
            " 9   Aggregation method                   47 non-null     object \n",
            " 10  Limitations and exceptions           14 non-null     object \n",
            " 11  Notes from original source           0 non-null      float64\n",
            " 12  General comments                     14 non-null     object \n",
            " 13  Source                               3665 non-null   object \n",
            " 14  Statistical concept and methodology  23 non-null     object \n",
            " 15  Development relevance                3 non-null      object \n",
            " 16  Related source links                 215 non-null    object \n",
            " 17  Other web links                      0 non-null      float64\n",
            " 18  Related indicators                   0 non-null      float64\n",
            " 19  License Type                         0 non-null      float64\n",
            " 20  Unnamed: 20                          0 non-null      float64\n",
            "dtypes: float64(6), object(15)\n",
            "memory usage: 601.4+ KB\n"
          ],
          "name": "stdout"
        }
      ]
    },
    {
      "cell_type": "code",
      "metadata": {
        "id": "7x39wqdvEvIJ",
        "colab": {
          "base_uri": "https://localhost:8080/"
        },
        "outputId": "77d511e3-e4a8-4225-9078-5ef7d55ecc67"
      },
      "source": [
        "df5.info()"
      ],
      "execution_count": 21,
      "outputs": [
        {
          "output_type": "stream",
          "text": [
            "<class 'pandas.core.frame.DataFrame'>\n",
            "RangeIndex: 886930 entries, 0 to 886929\n",
            "Data columns (total 70 columns):\n",
            " #   Column          Non-Null Count   Dtype  \n",
            "---  ------          --------------   -----  \n",
            " 0   Country Name    886930 non-null  object \n",
            " 1   Country Code    886930 non-null  object \n",
            " 2   Indicator Name  886930 non-null  object \n",
            " 3   Indicator Code  886930 non-null  object \n",
            " 4   1970            72288 non-null   float64\n",
            " 5   1971            35537 non-null   float64\n",
            " 6   1972            35619 non-null   float64\n",
            " 7   1973            35545 non-null   float64\n",
            " 8   1974            35730 non-null   float64\n",
            " 9   1975            87306 non-null   float64\n",
            " 10  1976            37483 non-null   float64\n",
            " 11  1977            37574 non-null   float64\n",
            " 12  1978            37576 non-null   float64\n",
            " 13  1979            36809 non-null   float64\n",
            " 14  1980            89122 non-null   float64\n",
            " 15  1981            38777 non-null   float64\n",
            " 16  1982            37511 non-null   float64\n",
            " 17  1983            38460 non-null   float64\n",
            " 18  1984            38606 non-null   float64\n",
            " 19  1985            90296 non-null   float64\n",
            " 20  1986            39372 non-null   float64\n",
            " 21  1987            38641 non-null   float64\n",
            " 22  1988            38552 non-null   float64\n",
            " 23  1989            37540 non-null   float64\n",
            " 24  1990            124405 non-null  float64\n",
            " 25  1991            74437 non-null   float64\n",
            " 26  1992            75543 non-null   float64\n",
            " 27  1993            75793 non-null   float64\n",
            " 28  1994            77462 non-null   float64\n",
            " 29  1995            131361 non-null  float64\n",
            " 30  1996            76807 non-null   float64\n",
            " 31  1997            73453 non-null   float64\n",
            " 32  1998            84914 non-null   float64\n",
            " 33  1999            118839 non-null  float64\n",
            " 34  2000            176676 non-null  float64\n",
            " 35  2001            123509 non-null  float64\n",
            " 36  2002            124205 non-null  float64\n",
            " 37  2003            130363 non-null  float64\n",
            " 38  2004            128814 non-null  float64\n",
            " 39  2005            184108 non-null  float64\n",
            " 40  2006            140312 non-null  float64\n",
            " 41  2007            137272 non-null  float64\n",
            " 42  2008            134387 non-null  float64\n",
            " 43  2009            142108 non-null  float64\n",
            " 44  2010            242442 non-null  float64\n",
            " 45  2011            146012 non-null  float64\n",
            " 46  2012            147264 non-null  float64\n",
            " 47  2013            137509 non-null  float64\n",
            " 48  2014            113789 non-null  float64\n",
            " 49  2015            131058 non-null  float64\n",
            " 50  2016            16460 non-null   float64\n",
            " 51  2017            143 non-null     float64\n",
            " 52  2020            51436 non-null   float64\n",
            " 53  2025            51436 non-null   float64\n",
            " 54  2030            51436 non-null   float64\n",
            " 55  2035            51436 non-null   float64\n",
            " 56  2040            51436 non-null   float64\n",
            " 57  2045            51436 non-null   float64\n",
            " 58  2050            51436 non-null   float64\n",
            " 59  2055            51436 non-null   float64\n",
            " 60  2060            51436 non-null   float64\n",
            " 61  2065            51436 non-null   float64\n",
            " 62  2070            51436 non-null   float64\n",
            " 63  2075            51436 non-null   float64\n",
            " 64  2080            51436 non-null   float64\n",
            " 65  2085            51436 non-null   float64\n",
            " 66  2090            51436 non-null   float64\n",
            " 67  2095            51436 non-null   float64\n",
            " 68  2100            51436 non-null   float64\n",
            " 69  Unnamed: 69     0 non-null       float64\n",
            "dtypes: float64(66), object(4)\n",
            "memory usage: 473.7+ MB\n"
          ],
          "name": "stdout"
        }
      ]
    },
    {
      "cell_type": "code",
      "metadata": {
        "id": "XB6xusSgKbpu"
      },
      "source": [
        "# df4['Indicator Name'] = pd.np.where(df1.Topic.str.contains('TIMSS'),df1['Indicator Name'].str.split(':').str[0], ' ')"
      ],
      "execution_count": 22,
      "outputs": []
    },
    {
      "cell_type": "markdown",
      "metadata": {
        "id": "6IoeQokjiib9"
      },
      "source": [
        "**Variation in performance of Females and Males in PSIA & TIMSS across years for PISA 2000 to 2015 & TIMSS 1995 to 2015**\n"
      ]
    },
    {
      "cell_type": "code",
      "metadata": {
        "colab": {
          "base_uri": "https://localhost:8080/"
        },
        "id": "umwGPXLxINCb",
        "outputId": "3b855db9-328f-4d2f-ffc4-ceeacaef74e7"
      },
      "source": [
        "a = df4.loc[:, 'Indicator Name']\n",
        "a.head(5)"
      ],
      "execution_count": 23,
      "outputs": [
        {
          "output_type": "execute_result",
          "data": {
            "text/plain": [
              "0    Barro-Lee: Percentage of female population age...\n",
              "1    Barro-Lee: Percentage of population age 15-19 ...\n",
              "2    Barro-Lee: Percentage of female population age...\n",
              "3    Barro-Lee: Percentage of population age 15+ wi...\n",
              "4    Barro-Lee: Percentage of female population age...\n",
              "Name: Indicator Name, dtype: object"
            ]
          },
          "metadata": {
            "tags": []
          },
          "execution_count": 23
        }
      ]
    },
    {
      "cell_type": "code",
      "metadata": {
        "colab": {
          "base_uri": "https://localhost:8080/",
          "height": 80
        },
        "id": "KiEs_H_7L6Vb",
        "outputId": "74cb85a3-3bb7-4fed-bd6e-64c646d691f7"
      },
      "source": [
        "df_data_subset = df5.drop(df5.iloc[:, 4:34],axis=1)\n",
        "# df_data_subset.head(1)\n",
        "df_data_subset = df_data_subset.drop(df_data_subset.iloc[:, 20:], axis=1)\n",
        "df_data_subset.head(1)"
      ],
      "execution_count": 24,
      "outputs": [
        {
          "output_type": "execute_result",
          "data": {
            "text/html": [
              "<div>\n",
              "<style scoped>\n",
              "    .dataframe tbody tr th:only-of-type {\n",
              "        vertical-align: middle;\n",
              "    }\n",
              "\n",
              "    .dataframe tbody tr th {\n",
              "        vertical-align: top;\n",
              "    }\n",
              "\n",
              "    .dataframe thead th {\n",
              "        text-align: right;\n",
              "    }\n",
              "</style>\n",
              "<table border=\"1\" class=\"dataframe\">\n",
              "  <thead>\n",
              "    <tr style=\"text-align: right;\">\n",
              "      <th></th>\n",
              "      <th>Country Name</th>\n",
              "      <th>Country Code</th>\n",
              "      <th>Indicator Name</th>\n",
              "      <th>Indicator Code</th>\n",
              "      <th>2000</th>\n",
              "      <th>2001</th>\n",
              "      <th>2002</th>\n",
              "      <th>2003</th>\n",
              "      <th>2004</th>\n",
              "      <th>2005</th>\n",
              "      <th>2006</th>\n",
              "      <th>2007</th>\n",
              "      <th>2008</th>\n",
              "      <th>2009</th>\n",
              "      <th>2010</th>\n",
              "      <th>2011</th>\n",
              "      <th>2012</th>\n",
              "      <th>2013</th>\n",
              "      <th>2014</th>\n",
              "      <th>2015</th>\n",
              "    </tr>\n",
              "  </thead>\n",
              "  <tbody>\n",
              "    <tr>\n",
              "      <th>0</th>\n",
              "      <td>Arab World</td>\n",
              "      <td>ARB</td>\n",
              "      <td>Adjusted net enrolment rate, lower secondary, ...</td>\n",
              "      <td>UIS.NERA.2</td>\n",
              "      <td>NaN</td>\n",
              "      <td>NaN</td>\n",
              "      <td>NaN</td>\n",
              "      <td>NaN</td>\n",
              "      <td>NaN</td>\n",
              "      <td>NaN</td>\n",
              "      <td>NaN</td>\n",
              "      <td>NaN</td>\n",
              "      <td>NaN</td>\n",
              "      <td>NaN</td>\n",
              "      <td>NaN</td>\n",
              "      <td>NaN</td>\n",
              "      <td>NaN</td>\n",
              "      <td>NaN</td>\n",
              "      <td>NaN</td>\n",
              "      <td>NaN</td>\n",
              "    </tr>\n",
              "  </tbody>\n",
              "</table>\n",
              "</div>"
            ],
            "text/plain": [
              "  Country Name Country Code  ... 2014 2015\n",
              "0   Arab World          ARB  ...  NaN  NaN\n",
              "\n",
              "[1 rows x 20 columns]"
            ]
          },
          "metadata": {
            "tags": []
          },
          "execution_count": 24
        }
      ]
    },
    {
      "cell_type": "code",
      "metadata": {
        "colab": {
          "base_uri": "https://localhost:8080/",
          "height": 141
        },
        "id": "t5HVHuwoNObp",
        "outputId": "e449fa18-53d7-4fb3-badc-96dbb8ca31a1"
      },
      "source": [
        "df1 = pd.merge(df_data_subset, df2[['Country Code', 'Region', 'Income Group']], how = 'left', on = 'Country Code').reset_index(drop=True)\n",
        "df1.head(3)"
      ],
      "execution_count": 25,
      "outputs": [
        {
          "output_type": "execute_result",
          "data": {
            "text/html": [
              "<div>\n",
              "<style scoped>\n",
              "    .dataframe tbody tr th:only-of-type {\n",
              "        vertical-align: middle;\n",
              "    }\n",
              "\n",
              "    .dataframe tbody tr th {\n",
              "        vertical-align: top;\n",
              "    }\n",
              "\n",
              "    .dataframe thead th {\n",
              "        text-align: right;\n",
              "    }\n",
              "</style>\n",
              "<table border=\"1\" class=\"dataframe\">\n",
              "  <thead>\n",
              "    <tr style=\"text-align: right;\">\n",
              "      <th></th>\n",
              "      <th>Country Name</th>\n",
              "      <th>Country Code</th>\n",
              "      <th>Indicator Name</th>\n",
              "      <th>Indicator Code</th>\n",
              "      <th>2000</th>\n",
              "      <th>2001</th>\n",
              "      <th>2002</th>\n",
              "      <th>2003</th>\n",
              "      <th>2004</th>\n",
              "      <th>2005</th>\n",
              "      <th>2006</th>\n",
              "      <th>2007</th>\n",
              "      <th>2008</th>\n",
              "      <th>2009</th>\n",
              "      <th>2010</th>\n",
              "      <th>2011</th>\n",
              "      <th>2012</th>\n",
              "      <th>2013</th>\n",
              "      <th>2014</th>\n",
              "      <th>2015</th>\n",
              "      <th>Region</th>\n",
              "      <th>Income Group</th>\n",
              "    </tr>\n",
              "  </thead>\n",
              "  <tbody>\n",
              "    <tr>\n",
              "      <th>0</th>\n",
              "      <td>Arab World</td>\n",
              "      <td>ARB</td>\n",
              "      <td>Adjusted net enrolment rate, lower secondary, ...</td>\n",
              "      <td>UIS.NERA.2</td>\n",
              "      <td>NaN</td>\n",
              "      <td>NaN</td>\n",
              "      <td>NaN</td>\n",
              "      <td>NaN</td>\n",
              "      <td>NaN</td>\n",
              "      <td>NaN</td>\n",
              "      <td>NaN</td>\n",
              "      <td>NaN</td>\n",
              "      <td>NaN</td>\n",
              "      <td>NaN</td>\n",
              "      <td>NaN</td>\n",
              "      <td>NaN</td>\n",
              "      <td>NaN</td>\n",
              "      <td>NaN</td>\n",
              "      <td>NaN</td>\n",
              "      <td>NaN</td>\n",
              "      <td>NaN</td>\n",
              "      <td>NaN</td>\n",
              "    </tr>\n",
              "    <tr>\n",
              "      <th>1</th>\n",
              "      <td>Arab World</td>\n",
              "      <td>ARB</td>\n",
              "      <td>Adjusted net enrolment rate, lower secondary, ...</td>\n",
              "      <td>UIS.NERA.2.F</td>\n",
              "      <td>NaN</td>\n",
              "      <td>NaN</td>\n",
              "      <td>NaN</td>\n",
              "      <td>NaN</td>\n",
              "      <td>NaN</td>\n",
              "      <td>NaN</td>\n",
              "      <td>NaN</td>\n",
              "      <td>NaN</td>\n",
              "      <td>NaN</td>\n",
              "      <td>NaN</td>\n",
              "      <td>NaN</td>\n",
              "      <td>NaN</td>\n",
              "      <td>NaN</td>\n",
              "      <td>NaN</td>\n",
              "      <td>NaN</td>\n",
              "      <td>NaN</td>\n",
              "      <td>NaN</td>\n",
              "      <td>NaN</td>\n",
              "    </tr>\n",
              "    <tr>\n",
              "      <th>2</th>\n",
              "      <td>Arab World</td>\n",
              "      <td>ARB</td>\n",
              "      <td>Adjusted net enrolment rate, lower secondary, ...</td>\n",
              "      <td>UIS.NERA.2.GPI</td>\n",
              "      <td>NaN</td>\n",
              "      <td>NaN</td>\n",
              "      <td>NaN</td>\n",
              "      <td>NaN</td>\n",
              "      <td>NaN</td>\n",
              "      <td>NaN</td>\n",
              "      <td>NaN</td>\n",
              "      <td>NaN</td>\n",
              "      <td>NaN</td>\n",
              "      <td>NaN</td>\n",
              "      <td>NaN</td>\n",
              "      <td>NaN</td>\n",
              "      <td>NaN</td>\n",
              "      <td>NaN</td>\n",
              "      <td>NaN</td>\n",
              "      <td>NaN</td>\n",
              "      <td>NaN</td>\n",
              "      <td>NaN</td>\n",
              "    </tr>\n",
              "  </tbody>\n",
              "</table>\n",
              "</div>"
            ],
            "text/plain": [
              "  Country Name Country Code  ... Region Income Group\n",
              "0   Arab World          ARB  ...    NaN          NaN\n",
              "1   Arab World          ARB  ...    NaN          NaN\n",
              "2   Arab World          ARB  ...    NaN          NaN\n",
              "\n",
              "[3 rows x 22 columns]"
            ]
          },
          "metadata": {
            "tags": []
          },
          "execution_count": 25
        }
      ]
    },
    {
      "cell_type": "code",
      "metadata": {
        "id": "X113hCnfJCqy"
      },
      "source": [
        ""
      ],
      "execution_count": 25,
      "outputs": []
    },
    {
      "cell_type": "code",
      "metadata": {
        "colab": {
          "base_uri": "https://localhost:8080/"
        },
        "id": "sbvgLtPQFrEn",
        "outputId": "4ca851e7-c1d4-4962-c9ea-5e92189ab101"
      },
      "source": [
        "df1.groupby(['Indicator Name', 'Country Name']).size()"
      ],
      "execution_count": 26,
      "outputs": [
        {
          "output_type": "execute_result",
          "data": {
            "text/plain": [
              "Indicator Name                                                Country Name      \n",
              "Adjusted net enrolment rate, lower secondary, both sexes (%)  Afghanistan           1\n",
              "                                                              Albania               1\n",
              "                                                              Algeria               1\n",
              "                                                              American Samoa        1\n",
              "                                                              Andorra               1\n",
              "                                                                                   ..\n",
              "Youth literacy rate, population 15-24 years, male (%)         West Bank and Gaza    1\n",
              "                                                              World                 1\n",
              "                                                              Yemen, Rep.           1\n",
              "                                                              Zambia                1\n",
              "                                                              Zimbabwe              1\n",
              "Length: 886930, dtype: int64"
            ]
          },
          "metadata": {
            "tags": []
          },
          "execution_count": 26
        }
      ]
    },
    {
      "cell_type": "code",
      "metadata": {
        "colab": {
          "base_uri": "https://localhost:8080/"
        },
        "id": "3oRDd8g9FHAl",
        "outputId": "bddebcc8-dff9-43da-b2f0-36ee514a4072"
      },
      "source": [
        "df1.groupby(['Region', 'Country Name']).size()"
      ],
      "execution_count": 27,
      "outputs": [
        {
          "output_type": "execute_result",
          "data": {
            "text/plain": [
              "Region               Country Name     \n",
              "East Asia & Pacific  American Samoa       3665\n",
              "                     Australia            3665\n",
              "                     Brunei Darussalam    3665\n",
              "                     Cambodia             3665\n",
              "                     China                3665\n",
              "                                          ... \n",
              "Sub-Saharan Africa   Tanzania             3665\n",
              "                     Togo                 3665\n",
              "                     Uganda               3665\n",
              "                     Zambia               3665\n",
              "                     Zimbabwe             3665\n",
              "Length: 214, dtype: int64"
            ]
          },
          "metadata": {
            "tags": []
          },
          "execution_count": 27
        }
      ]
    },
    {
      "cell_type": "code",
      "metadata": {
        "id": "ABCWxXzrUGe2"
      },
      "source": [
        ""
      ],
      "execution_count": 27,
      "outputs": []
    },
    {
      "cell_type": "code",
      "metadata": {
        "colab": {
          "base_uri": "https://localhost:8080/"
        },
        "id": "wuLHXtiUj2N0",
        "outputId": "0c006648-4245-4e80-9936-b721c374f870"
      },
      "source": [
        "b = df1[df1['Indicator Name'].str.contains('PISA')]['Indicator Name'].unique()\n",
        "b"
      ],
      "execution_count": 28,
      "outputs": [
        {
          "output_type": "execute_result",
          "data": {
            "text/plain": [
              "array(['PISA: 15-year-olds by mathematics proficiency level (%). Below Level 1',\n",
              "       'PISA: 15-year-olds by mathematics proficiency level (%). Level 1',\n",
              "       'PISA: 15-year-olds by mathematics proficiency level (%). Level 2',\n",
              "       'PISA: 15-year-olds by mathematics proficiency level (%). Level 3',\n",
              "       'PISA: 15-year-olds by mathematics proficiency level (%). Level 4',\n",
              "       'PISA: 15-year-olds by mathematics proficiency level (%). Level 5',\n",
              "       'PISA: 15-year-olds by mathematics proficiency level (%). Level 6',\n",
              "       'PISA: 15-year-olds by reading proficiency level (%). Below Level 1B',\n",
              "       'PISA: 15-year-olds by reading proficiency level (%). Level 1A',\n",
              "       'PISA: 15-year-olds by reading proficiency level (%). Level 1B',\n",
              "       'PISA: 15-year-olds by reading proficiency level (%). Level 2',\n",
              "       'PISA: 15-year-olds by reading proficiency level (%). Level 3',\n",
              "       'PISA: 15-year-olds by reading proficiency level (%). Level 4',\n",
              "       'PISA: 15-year-olds by reading proficiency level (%). Level 5',\n",
              "       'PISA: 15-year-olds by reading proficiency level (%). Level 6',\n",
              "       'PISA: 15-year-olds by science proficiency level (%). Below Level 1B',\n",
              "       'PISA: 15-year-olds by science proficiency level (%). Level 1A',\n",
              "       'PISA: 15-year-olds by science proficiency level (%). Level 1B',\n",
              "       'PISA: 15-year-olds by science proficiency level (%). Level 2',\n",
              "       'PISA: 15-year-olds by science proficiency level (%). Level 3',\n",
              "       'PISA: 15-year-olds by science proficiency level (%). Level 4',\n",
              "       'PISA: 15-year-olds by science proficiency level (%). Level 5',\n",
              "       'PISA: 15-year-olds by science proficiency level (%). Level 6',\n",
              "       'PISA: Distribution of Mathematics Scores: 10th Percentile Score',\n",
              "       'PISA: Distribution of Mathematics Scores: 25th Percentile Score',\n",
              "       'PISA: Distribution of Mathematics Scores: 50th Percentile Score',\n",
              "       'PISA: Distribution of Mathematics Scores: 5th Percentile Score',\n",
              "       'PISA: Distribution of Mathematics Scores: 75th Percentile Score',\n",
              "       'PISA: Distribution of Mathematics Scores: 90th Percentile Score',\n",
              "       'PISA: Distribution of Mathematics Scores: 95th Percentile Score',\n",
              "       'PISA: Distribution of Reading Scores: 10th Percentile Score',\n",
              "       'PISA: Distribution of Reading Scores: 25th Percentile Score',\n",
              "       'PISA: Distribution of Reading Scores: 50th Percentile Score',\n",
              "       'PISA: Distribution of Reading Scores: 5th Percentile Score',\n",
              "       'PISA: Distribution of Reading Scores: 75th Percentile Score',\n",
              "       'PISA: Distribution of Reading Scores: 90th Percentile Score',\n",
              "       'PISA: Distribution of Reading Scores: 95th Percentile Score',\n",
              "       'PISA: Distribution of Science Scores: 10th Percentile Score',\n",
              "       'PISA: Distribution of Science Scores: 25th Percentile Score',\n",
              "       'PISA: Distribution of Science Scores: 50th Percentile Score',\n",
              "       'PISA: Distribution of Science Scores: 5th Percentile Score',\n",
              "       'PISA: Distribution of Science Scores: 75th Percentile Score',\n",
              "       'PISA: Distribution of Science Scores: 90th Percentile Score',\n",
              "       'PISA: Distribution of Science Scores: 95th Percentile Score',\n",
              "       'PISA: Female 15-year-olds by mathematics proficiency level (%). Below Level 1',\n",
              "       'PISA: Female 15-year-olds by mathematics proficiency level (%). Level 1',\n",
              "       'PISA: Female 15-year-olds by mathematics proficiency level (%). Level 2',\n",
              "       'PISA: Female 15-year-olds by mathematics proficiency level (%). Level 3',\n",
              "       'PISA: Female 15-year-olds by mathematics proficiency level (%). Level 4',\n",
              "       'PISA: Female 15-year-olds by mathematics proficiency level (%). Level 5',\n",
              "       'PISA: Female 15-year-olds by mathematics proficiency level (%). Level 6',\n",
              "       'PISA: Female 15-year-olds by reading proficiency level (%). Below Level 1B',\n",
              "       'PISA: Female 15-year-olds by reading proficiency level (%). Level 1A',\n",
              "       'PISA: Female 15-year-olds by reading proficiency level (%). Level 1B',\n",
              "       'PISA: Female 15-year-olds by reading proficiency level (%). Level 2',\n",
              "       'PISA: Female 15-year-olds by reading proficiency level (%). Level 3',\n",
              "       'PISA: Female 15-year-olds by reading proficiency level (%). Level 4',\n",
              "       'PISA: Female 15-year-olds by reading proficiency level (%). Level 5',\n",
              "       'PISA: Female 15-year-olds by reading proficiency level (%). Level 6',\n",
              "       'PISA: Female 15-year-olds by science proficiency level (%). Below Level 1B',\n",
              "       'PISA: Female 15-year-olds by science proficiency level (%). Level 1A',\n",
              "       'PISA: Female 15-year-olds by science proficiency level (%). Level 1B',\n",
              "       'PISA: Female 15-year-olds by science proficiency level (%). Level 2',\n",
              "       'PISA: Female 15-year-olds by science proficiency level (%). Level 3',\n",
              "       'PISA: Female 15-year-olds by science proficiency level (%). Level 4',\n",
              "       'PISA: Female 15-year-olds by science proficiency level (%). Level 5',\n",
              "       'PISA: Female 15-year-olds by science proficiency level (%). Level 6',\n",
              "       'PISA: Male 15-year-olds by mathematics proficiency level (%). Below Level 1',\n",
              "       'PISA: Male 15-year-olds by mathematics proficiency level (%). Level 1',\n",
              "       'PISA: Male 15-year-olds by mathematics proficiency level (%). Level 2',\n",
              "       'PISA: Male 15-year-olds by mathematics proficiency level (%). Level 3',\n",
              "       'PISA: Male 15-year-olds by mathematics proficiency level (%). Level 4',\n",
              "       'PISA: Male 15-year-olds by mathematics proficiency level (%). Level 5',\n",
              "       'PISA: Male 15-year-olds by mathematics proficiency level (%). Level 6',\n",
              "       'PISA: Male 15-year-olds by reading proficiency level (%). Below Level 1B',\n",
              "       'PISA: Male 15-year-olds by reading proficiency level (%). Level 1A',\n",
              "       'PISA: Male 15-year-olds by reading proficiency level (%). Level 1B',\n",
              "       'PISA: Male 15-year-olds by reading proficiency level (%). Level 2',\n",
              "       'PISA: Male 15-year-olds by reading proficiency level (%). Level 3',\n",
              "       'PISA: Male 15-year-olds by reading proficiency level (%). Level 4',\n",
              "       'PISA: Male 15-year-olds by reading proficiency level (%). Level 5',\n",
              "       'PISA: Male 15-year-olds by reading proficiency level (%). Level 6',\n",
              "       'PISA: Male 15-year-olds by science proficiency level (%). Below Level 1B',\n",
              "       'PISA: Male 15-year-olds by science proficiency level (%). Level 1A',\n",
              "       'PISA: Male 15-year-olds by science proficiency level (%). Level 1B',\n",
              "       'PISA: Male 15-year-olds by science proficiency level (%). Level 2',\n",
              "       'PISA: Male 15-year-olds by science proficiency level (%). Level 3',\n",
              "       'PISA: Male 15-year-olds by science proficiency level (%). Level 4',\n",
              "       'PISA: Male 15-year-olds by science proficiency level (%). Level 5',\n",
              "       'PISA: Male 15-year-olds by science proficiency level (%). Level 6',\n",
              "       'PISA: Mean performance on the mathematics scale',\n",
              "       'PISA: Mean performance on the mathematics scale. Female',\n",
              "       'PISA: Mean performance on the mathematics scale. Male',\n",
              "       'PISA: Mean performance on the reading scale',\n",
              "       'PISA: Mean performance on the reading scale. Female',\n",
              "       'PISA: Mean performance on the reading scale. Male',\n",
              "       'PISA: Mean performance on the science scale',\n",
              "       'PISA: Mean performance on the science scale. Female',\n",
              "       'PISA: Mean performance on the science scale. Male'], dtype=object)"
            ]
          },
          "metadata": {
            "tags": []
          },
          "execution_count": 28
        }
      ]
    },
    {
      "cell_type": "code",
      "metadata": {
        "colab": {
          "base_uri": "https://localhost:8080/"
        },
        "id": "vhJyMLpUksgY",
        "outputId": "8d3c6bf5-fa78-4b8e-b883-79052c3e3f1f"
      },
      "source": [
        "df1[df1['Indicator Name'].str.contains('TIMSS')]['Indicator Name'].unique()"
      ],
      "execution_count": 29,
      "outputs": [
        {
          "output_type": "execute_result",
          "data": {
            "text/plain": [
              "array(['TIMSS: Distribution of 4th Grade Mathematics Scores: 10th Percentile Score',\n",
              "       'TIMSS: Distribution of 4th Grade Mathematics Scores: 25th Percentile Score',\n",
              "       'TIMSS: Distribution of 4th Grade Mathematics Scores: 50th Percentile Score',\n",
              "       'TIMSS: Distribution of 4th Grade Mathematics Scores: 5th Percentile Score',\n",
              "       'TIMSS: Distribution of 4th Grade Mathematics Scores: 75th Percentile Score',\n",
              "       'TIMSS: Distribution of 4th Grade Mathematics Scores: 90th Percentile Score',\n",
              "       'TIMSS: Distribution of 4th Grade Mathematics Scores: 95th Percentile Score',\n",
              "       'TIMSS: Distribution of 4th Grade Science Scores: 10th Percentile Score',\n",
              "       'TIMSS: Distribution of 4th Grade Science Scores: 25th Percentile Score',\n",
              "       'TIMSS: Distribution of 4th Grade Science Scores: 50th Percentile Score',\n",
              "       'TIMSS: Distribution of 4th Grade Science Scores: 5th Percentile Score',\n",
              "       'TIMSS: Distribution of 4th Grade Science Scores: 75th Percentile Score',\n",
              "       'TIMSS: Distribution of 4th Grade Science Scores: 90th Percentile Score',\n",
              "       'TIMSS: Distribution of 4th Grade Science Scores: 95th Percentile Score',\n",
              "       'TIMSS: Distribution of 8th Grade Mathematics Scores: 10th Percentile Score',\n",
              "       'TIMSS: Distribution of 8th Grade Mathematics Scores: 25th Percentile Score',\n",
              "       'TIMSS: Distribution of 8th Grade Mathematics Scores: 50th Percentile Score',\n",
              "       'TIMSS: Distribution of 8th Grade Mathematics Scores: 5th Percentile Score',\n",
              "       'TIMSS: Distribution of 8th Grade Mathematics Scores: 75th Percentile Score',\n",
              "       'TIMSS: Distribution of 8th Grade Mathematics Scores: 90th Percentile Score',\n",
              "       'TIMSS: Distribution of 8th Grade Mathematics Scores: 95th Percentile Score',\n",
              "       'TIMSS: Distribution of 8th Grade Science Scores: 10th Percentile Score',\n",
              "       'TIMSS: Distribution of 8th Grade Science Scores: 25th Percentile Score',\n",
              "       'TIMSS: Distribution of 8th Grade Science Scores: 50th Percentile Score',\n",
              "       'TIMSS: Distribution of 8th Grade Science Scores: 5th Percentile Score',\n",
              "       'TIMSS: Distribution of 8th Grade Science Scores: 75th Percentile Score',\n",
              "       'TIMSS: Distribution of 8th Grade Science Scores: 90th Percentile Score',\n",
              "       'TIMSS: Distribution of 8th Grade Science Scores: 95th Percentile Score',\n",
              "       'TIMSS: Eighth grade students reaching the advanced international benchmark of mathematics achievement (%)',\n",
              "       'TIMSS: Eighth grade students reaching the advanced international benchmark of science achievement (%)',\n",
              "       'TIMSS: Eighth grade students reaching the high international benchmark of mathematics achievement (%)',\n",
              "       'TIMSS: Eighth grade students reaching the high international benchmark of science achievement (%)',\n",
              "       'TIMSS: Eighth grade students reaching the intermediate international benchmark of mathematics achievement (%)',\n",
              "       'TIMSS: Eighth grade students reaching the intermediate international benchmark of science achievement (%)',\n",
              "       'TIMSS: Eighth grade students reaching the low international benchmark of mathematics achievement (%)',\n",
              "       'TIMSS: Eighth grade students reaching the low international benchmark of science achievement (%)',\n",
              "       'TIMSS: Eighth grade students who did not reach the low international benchmark of mathematics achievement (%)',\n",
              "       'TIMSS: Eighth grade students who did not reach the low international benchmark of science achievement (%)',\n",
              "       'TIMSS: Female 4th grade students reaching the advanced international benchmark of mathematics achievement (%)',\n",
              "       'TIMSS: Female 4th grade students reaching the advanced international benchmark of science achievement (%)',\n",
              "       'TIMSS: Female 4th grade students reaching the high international benchmark of mathematics achievement (%)',\n",
              "       'TIMSS: Female 4th grade students reaching the high international benchmark of science achievement (%)',\n",
              "       'TIMSS: Female 4th grade students reaching the intermediate international benchmark of mathematics achievement (%)',\n",
              "       'TIMSS: Female 4th grade students reaching the intermediate international benchmark of science achievement (%)',\n",
              "       'TIMSS: Female 4th grade students reaching the low international benchmark of mathematics achievement (%)',\n",
              "       'TIMSS: Female 4th grade students reaching the low international benchmark of science achievement (%)',\n",
              "       'TIMSS: Female 4th grade students who did not reach the low international benchmark of mathematics achievement (%)',\n",
              "       'TIMSS: Female 4th grade students who did not reach the low international benchmark of science achievement (%)',\n",
              "       'TIMSS: Female 8th grade students reaching the advanced international benchmark of mathematics achievement (%)',\n",
              "       'TIMSS: Female 8th grade students reaching the advanced international benchmark of science achievement (%)',\n",
              "       'TIMSS: Female 8th grade students reaching the high international benchmark of mathematics achievement (%)',\n",
              "       'TIMSS: Female 8th grade students reaching the high international benchmark of science achievement (%)',\n",
              "       'TIMSS: Female 8th grade students reaching the intermediate international benchmark of mathematics achievement (%)',\n",
              "       'TIMSS: Female 8th grade students reaching the intermediate international benchmark of science achievement (%)',\n",
              "       'TIMSS: Female 8th grade students reaching the low international benchmark of mathematics achievement (%)',\n",
              "       'TIMSS: Female 8th grade students reaching the low international benchmark of science achievement (%)',\n",
              "       'TIMSS: Female 8th grade students who did not reach the low international benchmark of mathematics achievement (%)',\n",
              "       'TIMSS: Female 8th grade students who did not reach the low international benchmark of science achievement (%)',\n",
              "       'TIMSS: Fourth grade students reaching the advanced international benchmark of mathematics achievement (%)',\n",
              "       'TIMSS: Fourth grade students reaching the advanced international benchmark of science achievement (%)',\n",
              "       'TIMSS: Fourth grade students reaching the high international benchmark of mathematics achievement (%)',\n",
              "       'TIMSS: Fourth grade students reaching the high international benchmark of science achievement (%)',\n",
              "       'TIMSS: Fourth grade students reaching the intermediate international benchmark of mathematics achievement (%)',\n",
              "       'TIMSS: Fourth grade students reaching the intermediate international benchmark of science achievement (%)',\n",
              "       'TIMSS: Fourth grade students reaching the low international benchmark of mathematics achievement (%)',\n",
              "       'TIMSS: Fourth grade students reaching the low international benchmark of science achievement (%)',\n",
              "       'TIMSS: Fourth grade students who did not reach the low international benchmark of mathematics achievement (%)',\n",
              "       'TIMSS: Fourth grade students who did not reach the low international benchmark of science achievement (%)',\n",
              "       'TIMSS: Male 4th grade students reaching the advanced international benchmark of mathematics achievement (%)',\n",
              "       'TIMSS: Male 4th grade students reaching the advanced international benchmark of science achievement (%)',\n",
              "       'TIMSS: Male 4th grade students reaching the high international benchmark of mathematics achievement (%)',\n",
              "       'TIMSS: Male 4th grade students reaching the high international benchmark of science achievement (%)',\n",
              "       'TIMSS: Male 4th grade students reaching the intermediate international benchmark of mathematics achievement (%)',\n",
              "       'TIMSS: Male 4th grade students reaching the intermediate international benchmark of science achievement (%)',\n",
              "       'TIMSS: Male 4th grade students reaching the low international benchmark of mathematics achievement (%)',\n",
              "       'TIMSS: Male 4th grade students reaching the low international benchmark of science achievement (%)',\n",
              "       'TIMSS: Male 4th grade students who did not reach the low international benchmark of mathematics achievement (%)',\n",
              "       'TIMSS: Male 4th grade students who did not reach the low international benchmark of science achievement (%)',\n",
              "       'TIMSS: Male 8th grade students reaching the advanced international benchmark of mathematics achievement (%)',\n",
              "       'TIMSS: Male 8th grade students reaching the advanced international benchmark of science achievement (%)',\n",
              "       'TIMSS: Male 8th grade students reaching the high international benchmark of mathematics achievement (%)',\n",
              "       'TIMSS: Male 8th grade students reaching the high international benchmark of science achievement (%)',\n",
              "       'TIMSS: Male 8th grade students reaching the intermediate international benchmark of mathematics achievement (%)',\n",
              "       'TIMSS: Male 8th grade students reaching the intermediate international benchmark of science achievement (%)',\n",
              "       'TIMSS: Male 8th grade students reaching the low international benchmark of mathematics achievement (%)',\n",
              "       'TIMSS: Male 8th grade students reaching the low international benchmark of science achievement (%)',\n",
              "       'TIMSS: Male 8th grade students who did not reach the low international benchmark of mathematics achievement (%)',\n",
              "       'TIMSS: Male 8th grade students who did not reach the low international benchmark of science achievement (%)',\n",
              "       'TIMSS: Mean performance on the mathematics scale for eighth grade students, female',\n",
              "       'TIMSS: Mean performance on the mathematics scale for eighth grade students, male',\n",
              "       'TIMSS: Mean performance on the mathematics scale for eighth grade students, total',\n",
              "       'TIMSS: Mean performance on the mathematics scale for fourth grade students, female',\n",
              "       'TIMSS: Mean performance on the mathematics scale for fourth grade students, male',\n",
              "       'TIMSS: Mean performance on the mathematics scale for fourth grade students, total',\n",
              "       'TIMSS: Mean performance on the science scale for eighth grade students, female',\n",
              "       'TIMSS: Mean performance on the science scale for eighth grade students, male',\n",
              "       'TIMSS: Mean performance on the science scale for eighth grade students, total',\n",
              "       'TIMSS: Mean performance on the science scale for fourth grade students, female',\n",
              "       'TIMSS: Mean performance on the science scale for fourth grade students, male',\n",
              "       'TIMSS: Mean performance on the science scale for fourth grade students, total'],\n",
              "      dtype=object)"
            ]
          },
          "metadata": {
            "tags": []
          },
          "execution_count": 29
        }
      ]
    },
    {
      "cell_type": "code",
      "metadata": {
        "colab": {
          "base_uri": "https://localhost:8080/",
          "height": 49
        },
        "id": "xj6X2p_-DQMW",
        "outputId": "b546a79a-4760-4f27-b7a4-9b130e3eab71"
      },
      "source": [
        "abc = df1.loc[df1['Indicator Name'].isin(['PISA'])][['Indicator Code', '2000',\t'2001',\t'2002',\t'2003',\t'2004']]\n",
        "abc"
      ],
      "execution_count": 30,
      "outputs": [
        {
          "output_type": "execute_result",
          "data": {
            "text/html": [
              "<div>\n",
              "<style scoped>\n",
              "    .dataframe tbody tr th:only-of-type {\n",
              "        vertical-align: middle;\n",
              "    }\n",
              "\n",
              "    .dataframe tbody tr th {\n",
              "        vertical-align: top;\n",
              "    }\n",
              "\n",
              "    .dataframe thead th {\n",
              "        text-align: right;\n",
              "    }\n",
              "</style>\n",
              "<table border=\"1\" class=\"dataframe\">\n",
              "  <thead>\n",
              "    <tr style=\"text-align: right;\">\n",
              "      <th></th>\n",
              "      <th>Indicator Code</th>\n",
              "      <th>2000</th>\n",
              "      <th>2001</th>\n",
              "      <th>2002</th>\n",
              "      <th>2003</th>\n",
              "      <th>2004</th>\n",
              "    </tr>\n",
              "  </thead>\n",
              "  <tbody>\n",
              "  </tbody>\n",
              "</table>\n",
              "</div>"
            ],
            "text/plain": [
              "Empty DataFrame\n",
              "Columns: [Indicator Code, 2000, 2001, 2002, 2003, 2004]\n",
              "Index: []"
            ]
          },
          "metadata": {
            "tags": []
          },
          "execution_count": 30
        }
      ]
    },
    {
      "cell_type": "markdown",
      "metadata": {
        "id": "Zjco_3hYjIaa"
      },
      "source": [
        "Relationship between internet users and literacy rate"
      ]
    },
    {
      "cell_type": "code",
      "metadata": {
        "colab": {
          "base_uri": "https://localhost:8080/"
        },
        "id": "XnWhaUnkPnai",
        "outputId": "830aa94e-752d-419a-cb1a-9d0bb805a6da"
      },
      "source": [
        "df_data_subset[df_data_subset['Indicator Name'].str.contains('literacy')]['Indicator Name'].unique()"
      ],
      "execution_count": 31,
      "outputs": [
        {
          "output_type": "execute_result",
          "data": {
            "text/plain": [
              "array(['Adult literacy rate, population 15+ years, both sexes (%)',\n",
              "       'Adult literacy rate, population 15+ years, female (%)',\n",
              "       'Adult literacy rate, population 15+ years, gender parity index (GPI)',\n",
              "       'Adult literacy rate, population 15+ years, male (%)',\n",
              "       'Elderly literacy rate, population 65+ years, both sexes (%)',\n",
              "       'Elderly literacy rate, population 65+ years, female (%)',\n",
              "       'Elderly literacy rate, population 65+ years, gender parity index (GPI)',\n",
              "       'Elderly literacy rate, population 65+ years, male (%)',\n",
              "       'PIAAC: Adults by literacy proficiency level (%). Below Level 1',\n",
              "       'PIAAC: Adults by literacy proficiency level (%). Level 1',\n",
              "       'PIAAC: Adults by literacy proficiency level (%). Level 2',\n",
              "       'PIAAC: Adults by literacy proficiency level (%). Level 3',\n",
              "       'PIAAC: Adults by literacy proficiency level (%). Level 4',\n",
              "       'PIAAC: Adults by literacy proficiency level (%). Level 5',\n",
              "       'PIAAC: Female adults by literacy proficiency level (%). Below Level 1',\n",
              "       'PIAAC: Female adults by literacy proficiency level (%). Level 1',\n",
              "       'PIAAC: Female adults by literacy proficiency level (%). Level 2',\n",
              "       'PIAAC: Female adults by literacy proficiency level (%). Level 3',\n",
              "       'PIAAC: Female adults by literacy proficiency level (%). Level 4 & 5',\n",
              "       'PIAAC: Male adults by literacy proficiency level (%). Below Level 1',\n",
              "       'PIAAC: Male adults by literacy proficiency level (%). Level 1',\n",
              "       'PIAAC: Male adults by literacy proficiency level (%). Level 2',\n",
              "       'PIAAC: Male adults by literacy proficiency level (%). Level 3',\n",
              "       'PIAAC: Male adults by literacy proficiency level (%). Level 4 & 5',\n",
              "       'PIAAC: Young adults by literacy proficiency level (%). Below Level 1',\n",
              "       'PIAAC: Young adults by literacy proficiency level (%). Level 1',\n",
              "       'PIAAC: Young adults by literacy proficiency level (%). Level 2',\n",
              "       'PIAAC: Young adults by literacy proficiency level (%). Level 3',\n",
              "       'PIAAC: Young adults by literacy proficiency level (%). Level 4 & 5',\n",
              "       'Youth literacy rate, population 15-24 years, both sexes (%)',\n",
              "       'Youth literacy rate, population 15-24 years, female (%)',\n",
              "       'Youth literacy rate, population 15-24 years, gender parity index (GPI)',\n",
              "       'Youth literacy rate, population 15-24 years, male (%)'],\n",
              "      dtype=object)"
            ]
          },
          "metadata": {
            "tags": []
          },
          "execution_count": 31
        }
      ]
    },
    {
      "cell_type": "code",
      "metadata": {
        "colab": {
          "base_uri": "https://localhost:8080/"
        },
        "id": "MJb_28LVewV6",
        "outputId": "366b0b4c-6081-4ff3-f661-9b3ef60f3d8b"
      },
      "source": [
        "df1[df1['Indicator Name'].str.contains('Internet')]['Indicator Name'].unique()"
      ],
      "execution_count": 32,
      "outputs": [
        {
          "output_type": "execute_result",
          "data": {
            "text/plain": [
              "array(['Internet users (per 100 people)'], dtype=object)"
            ]
          },
          "metadata": {
            "tags": []
          },
          "execution_count": 32
        }
      ]
    },
    {
      "cell_type": "code",
      "metadata": {
        "id": "EEAYuLd9f55z"
      },
      "source": [
        "import matplotlib.pyplot as plt\n",
        "%matplotlib inline"
      ],
      "execution_count": 33,
      "outputs": []
    },
    {
      "cell_type": "code",
      "metadata": {
        "id": "HOMW1MSDb05f"
      },
      "source": [
        ""
      ],
      "execution_count": null,
      "outputs": []
    }
  ]
}